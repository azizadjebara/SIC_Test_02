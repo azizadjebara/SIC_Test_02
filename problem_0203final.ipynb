{
  "nbformat": 4,
  "nbformat_minor": 0,
  "metadata": {
    "kernelspec": {
      "display_name": "Python 3",
      "language": "python",
      "name": "python3"
    },
    "language_info": {
      "codemirror_mode": {
        "name": "ipython",
        "version": 3
      },
      "file_extension": ".py",
      "mimetype": "text/x-python",
      "name": "python",
      "nbconvert_exporter": "python",
      "pygments_lexer": "ipython3",
      "version": "3.7.3"
    },
    "colab": {
      "name": "problem_0203.ipynb",
      "provenance": []
    }
  },
  "cells": [
    {
      "cell_type": "markdown",
      "metadata": {
        "id": "jYyR-u_RTGRT"
      },
      "source": [
        "## Quiz #0203 "
      ]
    },
    {
      "cell_type": "code",
      "metadata": {
        "id": "wQhluZTzTGRV"
      },
      "source": [
        "import pandas as pd\n",
        "import numpy as np\n",
        "import os"
      ],
      "execution_count": null,
      "outputs": []
    },
    {
      "cell_type": "markdown",
      "metadata": {
        "id": "Sk5EC_UITGRW"
      },
      "source": [
        "#### Read in the data."
      ]
    },
    {
      "cell_type": "code",
      "metadata": {
        "id": "4iCLIdVcTGRX"
      },
      "source": [
        "# Go to the directory where the data file is located. \n",
        "# os.chdir(r'~~')                # Please, replace the path with your own."
      ],
      "execution_count": null,
      "outputs": []
    },
    {
      "cell_type": "code",
      "metadata": {
        "id": "BhslNXG8TGRZ"
      },
      "source": [
        "df = pd.read_csv('data_sales.csv', header='infer')"
      ],
      "execution_count": null,
      "outputs": []
    },
    {
      "cell_type": "code",
      "metadata": {
        "colab": {
          "base_uri": "https://localhost:8080/"
        },
        "id": "AT3HtxGcTGRa",
        "outputId": "14d52f79-e7b9-4cd8-e471-94070705d073"
      },
      "source": [
        "df.shape"
      ],
      "execution_count": null,
      "outputs": [
        {
          "output_type": "execute_result",
          "data": {
            "text/plain": [
              "(43, 5)"
            ]
          },
          "metadata": {
            "tags": []
          },
          "execution_count": 4
        }
      ]
    },
    {
      "cell_type": "code",
      "metadata": {
        "colab": {
          "base_uri": "https://localhost:8080/",
          "height": 204
        },
        "id": "nz4UNGlyTGRb",
        "outputId": "7d9d92f4-de49-42bd-b351-98b7cb1eb994"
      },
      "source": [
        "df.head(5)"
      ],
      "execution_count": null,
      "outputs": [
        {
          "output_type": "execute_result",
          "data": {
            "text/html": [
              "<div>\n",
              "<style scoped>\n",
              "    .dataframe tbody tr th:only-of-type {\n",
              "        vertical-align: middle;\n",
              "    }\n",
              "\n",
              "    .dataframe tbody tr th {\n",
              "        vertical-align: top;\n",
              "    }\n",
              "\n",
              "    .dataframe thead th {\n",
              "        text-align: right;\n",
              "    }\n",
              "</style>\n",
              "<table border=\"1\" class=\"dataframe\">\n",
              "  <thead>\n",
              "    <tr style=\"text-align: right;\">\n",
              "      <th></th>\n",
              "      <th>Date</th>\n",
              "      <th>Region</th>\n",
              "      <th>Item</th>\n",
              "      <th>UnitPrice</th>\n",
              "      <th>Units</th>\n",
              "    </tr>\n",
              "  </thead>\n",
              "  <tbody>\n",
              "    <tr>\n",
              "      <th>0</th>\n",
              "      <td>4-Jul-2014</td>\n",
              "      <td>East</td>\n",
              "      <td>Pen Set</td>\n",
              "      <td>4.99</td>\n",
              "      <td>62</td>\n",
              "    </tr>\n",
              "    <tr>\n",
              "      <th>1</th>\n",
              "      <td>12-Jul-2014</td>\n",
              "      <td>East</td>\n",
              "      <td>Binder</td>\n",
              "      <td>1.99</td>\n",
              "      <td>29</td>\n",
              "    </tr>\n",
              "    <tr>\n",
              "      <th>2</th>\n",
              "      <td>21-Jul-2014</td>\n",
              "      <td>Central</td>\n",
              "      <td>Pen Set</td>\n",
              "      <td>12.49</td>\n",
              "      <td>55</td>\n",
              "    </tr>\n",
              "    <tr>\n",
              "      <th>3</th>\n",
              "      <td>29-Jul-2014</td>\n",
              "      <td>East</td>\n",
              "      <td>Binder</td>\n",
              "      <td>19.99</td>\n",
              "      <td>81</td>\n",
              "    </tr>\n",
              "    <tr>\n",
              "      <th>4</th>\n",
              "      <td>7-Aug-2014</td>\n",
              "      <td>Central</td>\n",
              "      <td>Pen Set</td>\n",
              "      <td>23.95</td>\n",
              "      <td>42</td>\n",
              "    </tr>\n",
              "  </tbody>\n",
              "</table>\n",
              "</div>"
            ],
            "text/plain": [
              "          Date   Region     Item  UnitPrice  Units\n",
              "0   4-Jul-2014     East  Pen Set       4.99     62\n",
              "1  12-Jul-2014     East   Binder       1.99     29\n",
              "2  21-Jul-2014  Central  Pen Set      12.49     55\n",
              "3  29-Jul-2014     East   Binder      19.99     81\n",
              "4   7-Aug-2014  Central  Pen Set      23.95     42"
            ]
          },
          "metadata": {
            "tags": []
          },
          "execution_count": 5
        }
      ]
    },
    {
      "cell_type": "markdown",
      "metadata": {
        "id": "08PHCCtCTGRc"
      },
      "source": [
        "#### Answer the following questions."
      ]
    },
    {
      "cell_type": "markdown",
      "metadata": {
        "id": "qLx7a7V1TGRd"
      },
      "source": [
        "1). Append a new variable $Amount = UnitPric \\times Units$."
      ]
    },
    {
      "cell_type": "code",
      "metadata": {
        "colab": {
          "base_uri": "https://localhost:8080/"
        },
        "id": "CS05otBlTGRd",
        "outputId": "892c88f2-d803-4a8c-d03f-2aec562f1dc0"
      },
      "source": [
        "Amount= df['UnitPrice']* df['Units']\n",
        "Amount\n"
      ],
      "execution_count": null,
      "outputs": [
        {
          "output_type": "execute_result",
          "data": {
            "text/plain": [
              "0      309.38\n",
              "1       57.71\n",
              "2      686.95\n",
              "3     1619.19\n",
              "4     1005.90\n",
              "5      174.65\n",
              "6      825.00\n",
              "7      250.00\n",
              "8        9.03\n",
              "9      255.84\n",
              "10     151.24\n",
              "11     251.72\n",
              "12    1139.43\n",
              "13     575.36\n",
              "14      18.06\n",
              "15     299.85\n",
              "16      54.89\n",
              "17     479.04\n",
              "18    1879.06\n",
              "19      86.43\n",
              "20     139.72\n",
              "21    1183.26\n",
              "22     189.05\n",
              "23     413.54\n",
              "24     999.50\n",
              "25    1305.00\n",
              "26     179.64\n",
              "27      19.96\n",
              "28     539.73\n",
              "29     139.93\n",
              "30     167.44\n",
              "31     249.50\n",
              "32     299.40\n",
              "33     131.34\n",
              "34     149.25\n",
              "35     479.04\n",
              "36     449.10\n",
              "37      68.37\n",
              "38      63.68\n",
              "39     719.20\n",
              "40     539.40\n",
              "41     625.00\n",
              "42     449.10\n",
              "dtype: float64"
            ]
          },
          "metadata": {
            "tags": []
          },
          "execution_count": 30
        }
      ]
    },
    {
      "cell_type": "markdown",
      "metadata": {
        "id": "ZOgTthPbTGRe"
      },
      "source": [
        "2). Average unit price for each region. Use the groupby() method."
      ]
    },
    {
      "cell_type": "code",
      "metadata": {
        "id": "DEi5HPdWqhXg",
        "colab": {
          "base_uri": "https://localhost:8080/"
        },
        "outputId": "3e7e38d9-a9af-41f1-b4f1-33aca8614249"
      },
      "source": [
        "df.groupby('Region')['UnitPrice'].mean()"
      ],
      "execution_count": null,
      "outputs": [
        {
          "output_type": "execute_result",
          "data": {
            "text/plain": [
              "Region\n",
              "Central    18.018750\n",
              "East        9.143846\n",
              "West       53.658333\n",
              "Name: UnitPrice, dtype: float64"
            ]
          },
          "metadata": {
            "tags": []
          },
          "execution_count": 18
        }
      ]
    },
    {
      "cell_type": "markdown",
      "metadata": {
        "id": "EFVpJGjkTGRe"
      },
      "source": [
        "3). Average unit price for each region. Use the pivot_table() method."
      ]
    },
    {
      "cell_type": "code",
      "metadata": {
        "colab": {
          "base_uri": "https://localhost:8080/",
          "height": 173
        },
        "id": "hox77nHKTGRf",
        "outputId": "3f4da23b-f146-46dd-efed-d864beae43ce"
      },
      "source": [
        "df.pivot_table(index = 'Region', values = 'UnitPrice', aggfunc=np.mean)"
      ],
      "execution_count": null,
      "outputs": [
        {
          "output_type": "execute_result",
          "data": {
            "text/html": [
              "<div>\n",
              "<style scoped>\n",
              "    .dataframe tbody tr th:only-of-type {\n",
              "        vertical-align: middle;\n",
              "    }\n",
              "\n",
              "    .dataframe tbody tr th {\n",
              "        vertical-align: top;\n",
              "    }\n",
              "\n",
              "    .dataframe thead th {\n",
              "        text-align: right;\n",
              "    }\n",
              "</style>\n",
              "<table border=\"1\" class=\"dataframe\">\n",
              "  <thead>\n",
              "    <tr style=\"text-align: right;\">\n",
              "      <th></th>\n",
              "      <th>UnitPrice</th>\n",
              "    </tr>\n",
              "    <tr>\n",
              "      <th>Region</th>\n",
              "      <th></th>\n",
              "    </tr>\n",
              "  </thead>\n",
              "  <tbody>\n",
              "    <tr>\n",
              "      <th>Central</th>\n",
              "      <td>18.018750</td>\n",
              "    </tr>\n",
              "    <tr>\n",
              "      <th>East</th>\n",
              "      <td>9.143846</td>\n",
              "    </tr>\n",
              "    <tr>\n",
              "      <th>West</th>\n",
              "      <td>53.658333</td>\n",
              "    </tr>\n",
              "  </tbody>\n",
              "</table>\n",
              "</div>"
            ],
            "text/plain": [
              "         UnitPrice\n",
              "Region            \n",
              "Central  18.018750\n",
              "East      9.143846\n",
              "West     53.658333"
            ]
          },
          "metadata": {
            "tags": []
          },
          "execution_count": 19
        }
      ]
    },
    {
      "cell_type": "markdown",
      "metadata": {
        "id": "fKS8g5WiTGRf"
      },
      "source": [
        "4). Average unit price and units for each region in one code sentence. Use the groupby() method. "
      ]
    },
    {
      "cell_type": "code",
      "metadata": {
        "colab": {
          "base_uri": "https://localhost:8080/",
          "height": 173
        },
        "id": "qg4Rj-QPTGRg",
        "outputId": "faa9ec32-06b5-4c8b-80f9-4d21ff2a6686"
      },
      "source": [
        "df.groupby('Region')[['UnitPrice', 'Units']].mean()"
      ],
      "execution_count": null,
      "outputs": [
        {
          "output_type": "execute_result",
          "data": {
            "text/html": [
              "<div>\n",
              "<style scoped>\n",
              "    .dataframe tbody tr th:only-of-type {\n",
              "        vertical-align: middle;\n",
              "    }\n",
              "\n",
              "    .dataframe tbody tr th {\n",
              "        vertical-align: top;\n",
              "    }\n",
              "\n",
              "    .dataframe thead th {\n",
              "        text-align: right;\n",
              "    }\n",
              "</style>\n",
              "<table border=\"1\" class=\"dataframe\">\n",
              "  <thead>\n",
              "    <tr style=\"text-align: right;\">\n",
              "      <th></th>\n",
              "      <th>UnitPrice</th>\n",
              "      <th>Units</th>\n",
              "    </tr>\n",
              "    <tr>\n",
              "      <th>Region</th>\n",
              "      <th></th>\n",
              "      <th></th>\n",
              "    </tr>\n",
              "  </thead>\n",
              "  <tbody>\n",
              "    <tr>\n",
              "      <th>Central</th>\n",
              "      <td>18.018750</td>\n",
              "      <td>49.958333</td>\n",
              "    </tr>\n",
              "    <tr>\n",
              "      <th>East</th>\n",
              "      <td>9.143846</td>\n",
              "      <td>53.153846</td>\n",
              "    </tr>\n",
              "    <tr>\n",
              "      <th>West</th>\n",
              "      <td>53.658333</td>\n",
              "      <td>38.500000</td>\n",
              "    </tr>\n",
              "  </tbody>\n",
              "</table>\n",
              "</div>"
            ],
            "text/plain": [
              "         UnitPrice      Units\n",
              "Region                       \n",
              "Central  18.018750  49.958333\n",
              "East      9.143846  53.153846\n",
              "West     53.658333  38.500000"
            ]
          },
          "metadata": {
            "tags": []
          },
          "execution_count": 24
        }
      ]
    },
    {
      "cell_type": "markdown",
      "metadata": {
        "id": "WjSXIhEYTGRg"
      },
      "source": [
        "5). Average unit price and units for each region in one code sentence. Use the pivot_table() method. "
      ]
    },
    {
      "cell_type": "code",
      "metadata": {
        "colab": {
          "base_uri": "https://localhost:8080/",
          "height": 173
        },
        "id": "FJWfGOTrTGRg",
        "outputId": "f3d058a8-c0a1-4640-f0f3-9c129772de41"
      },
      "source": [
        "df.pivot_table(index = 'Region', values = ['UnitPrice','Units'], aggfunc=np.mean)"
      ],
      "execution_count": null,
      "outputs": [
        {
          "output_type": "execute_result",
          "data": {
            "text/html": [
              "<div>\n",
              "<style scoped>\n",
              "    .dataframe tbody tr th:only-of-type {\n",
              "        vertical-align: middle;\n",
              "    }\n",
              "\n",
              "    .dataframe tbody tr th {\n",
              "        vertical-align: top;\n",
              "    }\n",
              "\n",
              "    .dataframe thead th {\n",
              "        text-align: right;\n",
              "    }\n",
              "</style>\n",
              "<table border=\"1\" class=\"dataframe\">\n",
              "  <thead>\n",
              "    <tr style=\"text-align: right;\">\n",
              "      <th></th>\n",
              "      <th>UnitPrice</th>\n",
              "      <th>Units</th>\n",
              "    </tr>\n",
              "    <tr>\n",
              "      <th>Region</th>\n",
              "      <th></th>\n",
              "      <th></th>\n",
              "    </tr>\n",
              "  </thead>\n",
              "  <tbody>\n",
              "    <tr>\n",
              "      <th>Central</th>\n",
              "      <td>18.018750</td>\n",
              "      <td>49.958333</td>\n",
              "    </tr>\n",
              "    <tr>\n",
              "      <th>East</th>\n",
              "      <td>9.143846</td>\n",
              "      <td>53.153846</td>\n",
              "    </tr>\n",
              "    <tr>\n",
              "      <th>West</th>\n",
              "      <td>53.658333</td>\n",
              "      <td>38.500000</td>\n",
              "    </tr>\n",
              "  </tbody>\n",
              "</table>\n",
              "</div>"
            ],
            "text/plain": [
              "         UnitPrice      Units\n",
              "Region                       \n",
              "Central  18.018750  49.958333\n",
              "East      9.143846  53.153846\n",
              "West     53.658333  38.500000"
            ]
          },
          "metadata": {
            "tags": []
          },
          "execution_count": 25
        }
      ]
    },
    {
      "cell_type": "markdown",
      "metadata": {
        "id": "gDrFWnMmTGRg"
      },
      "source": [
        "6). Total units for each region and item type in one code sentence. Use the pivot_table() method. Fill the missing values with 0."
      ]
    },
    {
      "cell_type": "code",
      "metadata": {
        "colab": {
          "base_uri": "https://localhost:8080/",
          "height": 173
        },
        "id": "HwNt4-YBTGRh",
        "outputId": "a851d0f1-d2df-4780-b146-d7e43e4a304e"
      },
      "source": [
        "df.pivot_table(index='Region', columns = 'Item', values = 'Units', aggfunc=np.sum, fill_value=0 )"
      ],
      "execution_count": null,
      "outputs": [
        {
          "output_type": "execute_result",
          "data": {
            "text/html": [
              "<div>\n",
              "<style scoped>\n",
              "    .dataframe tbody tr th:only-of-type {\n",
              "        vertical-align: middle;\n",
              "    }\n",
              "\n",
              "    .dataframe tbody tr th {\n",
              "        vertical-align: top;\n",
              "    }\n",
              "\n",
              "    .dataframe thead th {\n",
              "        text-align: right;\n",
              "    }\n",
              "</style>\n",
              "<table border=\"1\" class=\"dataframe\">\n",
              "  <thead>\n",
              "    <tr style=\"text-align: right;\">\n",
              "      <th>Item</th>\n",
              "      <th>Binder</th>\n",
              "      <th>Desk</th>\n",
              "      <th>Pen</th>\n",
              "      <th>Pen Set</th>\n",
              "      <th>Pencil</th>\n",
              "    </tr>\n",
              "    <tr>\n",
              "      <th>Region</th>\n",
              "      <th></th>\n",
              "      <th></th>\n",
              "      <th></th>\n",
              "      <th></th>\n",
              "      <th></th>\n",
              "    </tr>\n",
              "  </thead>\n",
              "  <tbody>\n",
              "    <tr>\n",
              "      <th>Central</th>\n",
              "      <td>424</td>\n",
              "      <td>7</td>\n",
              "      <td>27</td>\n",
              "      <td>243</td>\n",
              "      <td>498</td>\n",
              "    </tr>\n",
              "    <tr>\n",
              "      <th>East</th>\n",
              "      <td>234</td>\n",
              "      <td>0</td>\n",
              "      <td>175</td>\n",
              "      <td>152</td>\n",
              "      <td>130</td>\n",
              "    </tr>\n",
              "    <tr>\n",
              "      <th>West</th>\n",
              "      <td>64</td>\n",
              "      <td>3</td>\n",
              "      <td>76</td>\n",
              "      <td>0</td>\n",
              "      <td>88</td>\n",
              "    </tr>\n",
              "  </tbody>\n",
              "</table>\n",
              "</div>"
            ],
            "text/plain": [
              "Item     Binder  Desk  Pen  Pen Set  Pencil\n",
              "Region                                     \n",
              "Central     424     7   27      243     498\n",
              "East        234     0  175      152     130\n",
              "West         64     3   76        0      88"
            ]
          },
          "metadata": {
            "tags": []
          },
          "execution_count": 27
        }
      ]
    },
    {
      "cell_type": "markdown",
      "metadata": {
        "id": "TYOQqXPoTGRh"
      },
      "source": [
        "7). Total sales amount for each region and item type in one code sentence. Use the pivot_table() method. Fill the missing values with 0."
      ]
    },
    {
      "cell_type": "code",
      "metadata": {
        "colab": {
          "base_uri": "https://localhost:8080/",
          "height": 204
        },
        "id": "YKoqxe-mTGRh",
        "outputId": "c619f3f5-337e-4f2a-f144-c312a998910f"
      },
      "source": [
        "df.pivot_table(index='Region', columns = 'Item', values = ['UnitPrice','Units'], aggfunc=np.sum, fill_value=0 )"
      ],
      "execution_count": null,
      "outputs": [
        {
          "output_type": "execute_result",
          "data": {
            "text/html": [
              "<div>\n",
              "<style scoped>\n",
              "    .dataframe tbody tr th:only-of-type {\n",
              "        vertical-align: middle;\n",
              "    }\n",
              "\n",
              "    .dataframe tbody tr th {\n",
              "        vertical-align: top;\n",
              "    }\n",
              "\n",
              "    .dataframe thead tr th {\n",
              "        text-align: left;\n",
              "    }\n",
              "\n",
              "    .dataframe thead tr:last-of-type th {\n",
              "        text-align: right;\n",
              "    }\n",
              "</style>\n",
              "<table border=\"1\" class=\"dataframe\">\n",
              "  <thead>\n",
              "    <tr>\n",
              "      <th></th>\n",
              "      <th colspan=\"5\" halign=\"left\">UnitPrice</th>\n",
              "      <th colspan=\"5\" halign=\"left\">Units</th>\n",
              "    </tr>\n",
              "    <tr>\n",
              "      <th>Item</th>\n",
              "      <th>Binder</th>\n",
              "      <th>Desk</th>\n",
              "      <th>Pen</th>\n",
              "      <th>Pen Set</th>\n",
              "      <th>Pencil</th>\n",
              "      <th>Binder</th>\n",
              "      <th>Desk</th>\n",
              "      <th>Pen</th>\n",
              "      <th>Pen Set</th>\n",
              "      <th>Pencil</th>\n",
              "    </tr>\n",
              "    <tr>\n",
              "      <th>Region</th>\n",
              "      <th></th>\n",
              "      <th></th>\n",
              "      <th></th>\n",
              "      <th></th>\n",
              "      <th></th>\n",
              "      <th></th>\n",
              "      <th></th>\n",
              "      <th></th>\n",
              "      <th></th>\n",
              "      <th></th>\n",
              "    </tr>\n",
              "  </thead>\n",
              "  <tbody>\n",
              "    <tr>\n",
              "      <th>Central</th>\n",
              "      <td>91.93</td>\n",
              "      <td>250</td>\n",
              "      <td>19.99</td>\n",
              "      <td>46.42</td>\n",
              "      <td>24.11</td>\n",
              "      <td>424</td>\n",
              "      <td>7</td>\n",
              "      <td>27</td>\n",
              "      <td>243</td>\n",
              "      <td>498</td>\n",
              "    </tr>\n",
              "    <tr>\n",
              "      <th>East</th>\n",
              "      <td>40.95</td>\n",
              "      <td>0</td>\n",
              "      <td>33.97</td>\n",
              "      <td>36.97</td>\n",
              "      <td>6.98</td>\n",
              "      <td>234</td>\n",
              "      <td>0</td>\n",
              "      <td>175</td>\n",
              "      <td>152</td>\n",
              "      <td>130</td>\n",
              "    </tr>\n",
              "    <tr>\n",
              "      <th>West</th>\n",
              "      <td>39.98</td>\n",
              "      <td>275</td>\n",
              "      <td>1.99</td>\n",
              "      <td>0.00</td>\n",
              "      <td>4.98</td>\n",
              "      <td>64</td>\n",
              "      <td>3</td>\n",
              "      <td>76</td>\n",
              "      <td>0</td>\n",
              "      <td>88</td>\n",
              "    </tr>\n",
              "  </tbody>\n",
              "</table>\n",
              "</div>"
            ],
            "text/plain": [
              "        UnitPrice                             Units                         \n",
              "Item       Binder Desk    Pen Pen Set Pencil Binder Desk  Pen Pen Set Pencil\n",
              "Region                                                                      \n",
              "Central     91.93  250  19.99   46.42  24.11    424    7   27     243    498\n",
              "East        40.95    0  33.97   36.97   6.98    234    0  175     152    130\n",
              "West        39.98  275   1.99    0.00   4.98     64    3   76       0     88"
            ]
          },
          "metadata": {
            "tags": []
          },
          "execution_count": 32
        }
      ]
    }
  ]
}