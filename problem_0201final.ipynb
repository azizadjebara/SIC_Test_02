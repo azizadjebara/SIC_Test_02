{
  "nbformat": 4,
  "nbformat_minor": 0,
  "metadata": {
    "kernelspec": {
      "display_name": "Python 3",
      "language": "python",
      "name": "python3"
    },
    "language_info": {
      "codemirror_mode": {
        "name": "ipython",
        "version": 3
      },
      "file_extension": ".py",
      "mimetype": "text/x-python",
      "name": "python",
      "nbconvert_exporter": "python",
      "pygments_lexer": "ipython3",
      "version": "3.7.3"
    },
    "colab": {
      "name": "problem_0201.ipynb",
      "provenance": []
    }
  },
  "cells": [
    {
      "cell_type": "markdown",
      "metadata": {
        "id": "9VHsGTbqB9pG"
      },
      "source": [
        "## Quiz #0201 "
      ]
    },
    {
      "cell_type": "code",
      "metadata": {
        "id": "RY2DsUtMB9pQ"
      },
      "source": [
        "import pandas as pd\n",
        "import os"
      ],
      "execution_count": null,
      "outputs": []
    },
    {
      "cell_type": "markdown",
      "metadata": {
        "id": "OdiGyvSbB9pS"
      },
      "source": [
        "#### Read in the data."
      ]
    },
    {
      "cell_type": "code",
      "metadata": {
        "id": "pBb6JZYxB9pT"
      },
      "source": [
        "# Go to the directory where the data file is located. \n",
        "# os.chdir(r'~~')                # Please, replace the path with your own."
      ],
      "execution_count": null,
      "outputs": []
    },
    {
      "cell_type": "code",
      "metadata": {
        "id": "-c3BYbKyB9pU"
      },
      "source": [
        "df = pd.read_csv('data_studentlist.csv', header='infer')"
      ],
      "execution_count": null,
      "outputs": []
    },
    {
      "cell_type": "code",
      "metadata": {
        "colab": {
          "base_uri": "https://localhost:8080/",
          "height": 204
        },
        "id": "nqitAg8WB9pV",
        "outputId": "f432c98a-6187-4430-c012-ee87a11dffc7"
      },
      "source": [
        "df.head(5)"
      ],
      "execution_count": null,
      "outputs": [
        {
          "output_type": "execute_result",
          "data": {
            "text/html": [
              "<div>\n",
              "<style scoped>\n",
              "    .dataframe tbody tr th:only-of-type {\n",
              "        vertical-align: middle;\n",
              "    }\n",
              "\n",
              "    .dataframe tbody tr th {\n",
              "        vertical-align: top;\n",
              "    }\n",
              "\n",
              "    .dataframe thead th {\n",
              "        text-align: right;\n",
              "    }\n",
              "</style>\n",
              "<table border=\"1\" class=\"dataframe\">\n",
              "  <thead>\n",
              "    <tr style=\"text-align: right;\">\n",
              "      <th></th>\n",
              "      <th>name</th>\n",
              "      <th>gender</th>\n",
              "      <th>age</th>\n",
              "      <th>grade</th>\n",
              "      <th>absence</th>\n",
              "      <th>bloodtype</th>\n",
              "      <th>height</th>\n",
              "      <th>weight</th>\n",
              "    </tr>\n",
              "  </thead>\n",
              "  <tbody>\n",
              "    <tr>\n",
              "      <th>0</th>\n",
              "      <td>Jared Diamond</td>\n",
              "      <td>M</td>\n",
              "      <td>23</td>\n",
              "      <td>3</td>\n",
              "      <td>Y</td>\n",
              "      <td>O</td>\n",
              "      <td>165.3</td>\n",
              "      <td>68.2</td>\n",
              "    </tr>\n",
              "    <tr>\n",
              "      <th>1</th>\n",
              "      <td>Sarah O'Donnel</td>\n",
              "      <td>F</td>\n",
              "      <td>22</td>\n",
              "      <td>2</td>\n",
              "      <td>N</td>\n",
              "      <td>AB</td>\n",
              "      <td>170.1</td>\n",
              "      <td>53.0</td>\n",
              "    </tr>\n",
              "    <tr>\n",
              "      <th>2</th>\n",
              "      <td>Brian Martin</td>\n",
              "      <td>M</td>\n",
              "      <td>24</td>\n",
              "      <td>4</td>\n",
              "      <td>N</td>\n",
              "      <td>B</td>\n",
              "      <td>175.0</td>\n",
              "      <td>80.1</td>\n",
              "    </tr>\n",
              "    <tr>\n",
              "      <th>3</th>\n",
              "      <td>David Hassel</td>\n",
              "      <td>M</td>\n",
              "      <td>23</td>\n",
              "      <td>3</td>\n",
              "      <td>N</td>\n",
              "      <td>AB</td>\n",
              "      <td>182.1</td>\n",
              "      <td>85.7</td>\n",
              "    </tr>\n",
              "    <tr>\n",
              "      <th>4</th>\n",
              "      <td>Clara Rodriquez</td>\n",
              "      <td>F</td>\n",
              "      <td>20</td>\n",
              "      <td>1</td>\n",
              "      <td>Y</td>\n",
              "      <td>A</td>\n",
              "      <td>168.0</td>\n",
              "      <td>49.5</td>\n",
              "    </tr>\n",
              "  </tbody>\n",
              "</table>\n",
              "</div>"
            ],
            "text/plain": [
              "              name gender  age  grade absence bloodtype  height  weight\n",
              "0    Jared Diamond      M   23      3       Y         O   165.3    68.2\n",
              "1   Sarah O'Donnel      F   22      2       N        AB   170.1    53.0\n",
              "2     Brian Martin      M   24      4       N         B   175.0    80.1\n",
              "3     David Hassel      M   23      3       N        AB   182.1    85.7\n",
              "4  Clara Rodriquez      F   20      1       Y         A   168.0    49.5"
            ]
          },
          "metadata": {
            "tags": []
          },
          "execution_count": 8
        }
      ]
    },
    {
      "cell_type": "markdown",
      "metadata": {
        "id": "Em57jPmgB9pV"
      },
      "source": [
        "#### Answer the following questions using Pandas library."
      ]
    },
    {
      "cell_type": "markdown",
      "metadata": {
        "id": "MaWD_wsCB9pX"
      },
      "source": [
        "1). Average height of the male students:"
      ]
    },
    {
      "cell_type": "code",
      "metadata": {
        "colab": {
          "base_uri": "https://localhost:8080/"
        },
        "id": "9VmI8LKxB9pY",
        "outputId": "192780b6-8736-4723-aa13-9545ce629aac"
      },
      "source": [
        "df[df.gender=='M'].height.mean()"
      ],
      "execution_count": null,
      "outputs": [
        {
          "output_type": "execute_result",
          "data": {
            "text/plain": [
              "172.41"
            ]
          },
          "metadata": {
            "tags": []
          },
          "execution_count": 9
        }
      ]
    },
    {
      "cell_type": "markdown",
      "metadata": {
        "id": "_NcUNzLMB9pY"
      },
      "source": [
        "2). Average height of the male students:"
      ]
    },
    {
      "cell_type": "code",
      "metadata": {
        "colab": {
          "base_uri": "https://localhost:8080/"
        },
        "id": "tlclTbdMB9pZ",
        "outputId": "4964f857-915b-4b3a-8e61-9c5e70192440"
      },
      "source": [
        "df[df.gender=='F'].height.mean()"
      ],
      "execution_count": null,
      "outputs": [
        {
          "output_type": "execute_result",
          "data": {
            "text/plain": [
              "166.64285714285714"
            ]
          },
          "metadata": {
            "tags": []
          },
          "execution_count": 10
        }
      ]
    },
    {
      "cell_type": "markdown",
      "metadata": {
        "id": "g3PmD0tpB9pZ"
      },
      "source": [
        "3). Average weight of the male students:"
      ]
    },
    {
      "cell_type": "code",
      "metadata": {
        "colab": {
          "base_uri": "https://localhost:8080/"
        },
        "id": "6YHWRSAzB9pa",
        "outputId": "201775ee-a7de-46cd-c52b-e51600a07008"
      },
      "source": [
        "df[df.gender=='M'].weight.mean()"
      ],
      "execution_count": null,
      "outputs": [
        {
          "output_type": "execute_result",
          "data": {
            "text/plain": [
              "68.50000000000001"
            ]
          },
          "metadata": {
            "tags": []
          },
          "execution_count": 11
        }
      ]
    },
    {
      "cell_type": "markdown",
      "metadata": {
        "id": "PDLcBPFmB9pa"
      },
      "source": [
        "4). Average weight of the female students:"
      ]
    },
    {
      "cell_type": "code",
      "metadata": {
        "colab": {
          "base_uri": "https://localhost:8080/"
        },
        "id": "E5SXbtWMB9pb",
        "outputId": "527c73ef-a5a3-4de0-b4f9-19a9ff0ab788"
      },
      "source": [
        "df[df.gender=='F'].weight.mean()"
      ],
      "execution_count": null,
      "outputs": [
        {
          "output_type": "execute_result",
          "data": {
            "text/plain": [
              "50.44285714285714"
            ]
          },
          "metadata": {
            "tags": []
          },
          "execution_count": 12
        }
      ]
    },
    {
      "cell_type": "markdown",
      "metadata": {
        "id": "Ywd3U7moB9pb"
      },
      "source": [
        "5). The tallest height among the male students:"
      ]
    },
    {
      "cell_type": "code",
      "metadata": {
        "colab": {
          "base_uri": "https://localhost:8080/"
        },
        "id": "Z9wMEYCrB9pe",
        "outputId": "a570d5a9-0b02-4efd-b4db-6eab3f8d3469"
      },
      "source": [
        "df[df.gender=='M'].height .max()"
      ],
      "execution_count": null,
      "outputs": [
        {
          "output_type": "execute_result",
          "data": {
            "text/plain": [
              "182.1"
            ]
          },
          "metadata": {
            "tags": []
          },
          "execution_count": 13
        }
      ]
    },
    {
      "cell_type": "markdown",
      "metadata": {
        "id": "G8dtUGbTB9pe"
      },
      "source": [
        "6). The shortest height among the female students:"
      ]
    },
    {
      "cell_type": "code",
      "metadata": {
        "colab": {
          "base_uri": "https://localhost:8080/"
        },
        "id": "b4jji-6XB9pf",
        "outputId": "6c062036-0c9b-45df-8cba-093a14911c66"
      },
      "source": [
        "df[df.gender=='F'].height.min()"
      ],
      "execution_count": null,
      "outputs": [
        {
          "output_type": "execute_result",
          "data": {
            "text/plain": [
              "155.2"
            ]
          },
          "metadata": {
            "tags": []
          },
          "execution_count": 14
        }
      ]
    },
    {
      "cell_type": "markdown",
      "metadata": {
        "id": "R6bzW0cLB9pf"
      },
      "source": [
        "7). The lightest weight among the male students of height taller than 175cm: "
      ]
    },
    {
      "cell_type": "code",
      "metadata": {
        "colab": {
          "base_uri": "https://localhost:8080/"
        },
        "id": "S1oxcETxB9pg",
        "outputId": "db14b78b-dc03-4926-b3c5-341a958d84a9"
      },
      "source": [
        "df[(df.gender=='M') & (df.height >175)].weight.min()"
      ],
      "execution_count": null,
      "outputs": [
        {
          "output_type": "execute_result",
          "data": {
            "text/plain": [
              "61.3"
            ]
          },
          "metadata": {
            "tags": []
          },
          "execution_count": 15
        }
      ]
    },
    {
      "cell_type": "markdown",
      "metadata": {
        "id": "BukujoQqB9ph"
      },
      "source": [
        "8). The heaviest weight among the female students of height shorter than 160cm: "
      ]
    },
    {
      "cell_type": "code",
      "metadata": {
        "colab": {
          "base_uri": "https://localhost:8080/"
        },
        "id": "DFIidojAB9pi",
        "outputId": "a1b31951-ca18-4ff8-beac-06a2a96b364c"
      },
      "source": [
        "df[(df.gender=='F')&(df.height<160)].weight.max()"
      ],
      "execution_count": null,
      "outputs": [
        {
          "output_type": "execute_result",
          "data": {
            "text/plain": [
              "45.3"
            ]
          },
          "metadata": {
            "tags": []
          },
          "execution_count": 20
        }
      ]
    },
    {
      "cell_type": "markdown",
      "metadata": {
        "id": "yZRCP475B9pj"
      },
      "source": [
        "9). The average grade of students without absence ('N'):"
      ]
    },
    {
      "cell_type": "code",
      "metadata": {
        "colab": {
          "base_uri": "https://localhost:8080/"
        },
        "id": "aNrDnubmB9pj",
        "outputId": "a720790f-0f0c-44d3-eac4-26c366e1b6b8"
      },
      "source": [
        "df[(df.absence=='N')].grade.mean()"
      ],
      "execution_count": null,
      "outputs": [
        {
          "output_type": "execute_result",
          "data": {
            "text/plain": [
              "2.076923076923077"
            ]
          },
          "metadata": {
            "tags": []
          },
          "execution_count": 44
        }
      ]
    },
    {
      "cell_type": "markdown",
      "metadata": {
        "id": "tx3YzhM-B9pj"
      },
      "source": [
        "10). The average grade of students with absence ('Y'):"
      ]
    },
    {
      "cell_type": "code",
      "metadata": {
        "colab": {
          "base_uri": "https://localhost:8080/"
        },
        "id": "pGIby7mAfza0",
        "outputId": "41eb9853-1cc3-47d8-a912-f7fbeeb9d399"
      },
      "source": [
        "df[ (df.absence=='Y')].grade.mean()"
      ],
      "execution_count": null,
      "outputs": [
        {
          "output_type": "execute_result",
          "data": {
            "text/plain": [
              "3.0"
            ]
          },
          "metadata": {
            "tags": []
          },
          "execution_count": 43
        }
      ]
    },
    {
      "cell_type": "markdown",
      "metadata": {
        "id": "RYBRtIlZB9pk"
      },
      "source": [
        "11). Average height of the students with blood type 'A' or 'AB':"
      ]
    },
    {
      "cell_type": "code",
      "metadata": {
        "colab": {
          "base_uri": "https://localhost:8080/"
        },
        "id": "6hSsW8P0hBL4",
        "outputId": "b5eca124-110f-4506-f555-f2641ad7113d"
      },
      "source": [
        "df[(df.bloodtype=='AB')|(df.bloodtype=='A')].height.mean()"
      ],
      "execution_count": null,
      "outputs": [
        {
          "output_type": "execute_result",
          "data": {
            "text/plain": [
              "172.64285714285714"
            ]
          },
          "metadata": {
            "tags": []
          },
          "execution_count": 42
        }
      ]
    },
    {
      "cell_type": "markdown",
      "metadata": {
        "id": "X-58OUvhB9pk"
      },
      "source": [
        "12). Average height of the **male** students with blood type 'A' or 'AB':"
      ]
    },
    {
      "cell_type": "code",
      "metadata": {
        "colab": {
          "base_uri": "https://localhost:8080/"
        },
        "id": "czTEXPe2B9pl",
        "outputId": "9513e841-e4d4-4215-9c50-481bab591612"
      },
      "source": [
        "df[(df.gender=='M') & ((df.bloodtype=='A')|(df.bloodtype=='AB'))].height.mean()"
      ],
      "execution_count": null,
      "outputs": [
        {
          "output_type": "execute_result",
          "data": {
            "text/plain": [
              "173.375"
            ]
          },
          "metadata": {
            "tags": []
          },
          "execution_count": 45
        }
      ]
    },
    {
      "cell_type": "markdown",
      "metadata": {
        "id": "VsLFRtEnB9pl"
      },
      "source": [
        "13). Average age of the students with absence ('Y') whose grade is equal or larger than 3:"
      ]
    },
    {
      "cell_type": "code",
      "metadata": {
        "id": "gl_6jSWwB9pl",
        "colab": {
          "base_uri": "https://localhost:8080/"
        },
        "outputId": "374b203c-59e0-4505-af11-e8a97319363f"
      },
      "source": [
        "df[(df.absence=='Y')&(df.grade>= 3)].age.mean()"
      ],
      "execution_count": null,
      "outputs": [
        {
          "output_type": "execute_result",
          "data": {
            "text/plain": [
              "23.666666666666668"
            ]
          },
          "metadata": {
            "tags": []
          },
          "execution_count": 49
        }
      ]
    }
  ]
}