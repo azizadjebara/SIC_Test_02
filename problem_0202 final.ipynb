{
  "nbformat": 4,
  "nbformat_minor": 0,
  "metadata": {
    "kernelspec": {
      "display_name": "Python 3",
      "language": "python",
      "name": "python3"
    },
    "language_info": {
      "codemirror_mode": {
        "name": "ipython",
        "version": 3
      },
      "file_extension": ".py",
      "mimetype": "text/x-python",
      "name": "python",
      "nbconvert_exporter": "python",
      "pygments_lexer": "ipython3",
      "version": "3.7.3"
    },
    "colab": {
      "name": "problem_0202.ipynb",
      "provenance": []
    }
  },
  "cells": [
    {
      "cell_type": "markdown",
      "metadata": {
        "id": "BxXEX14BZ49c"
      },
      "source": [
        "## Quiz #0202"
      ]
    },
    {
      "cell_type": "code",
      "metadata": {
        "id": "QtMT_ZYhZ49i"
      },
      "source": [
        "import pandas as pd\n",
        "import numpy as np\n",
        "import os"
      ],
      "execution_count": null,
      "outputs": []
    },
    {
      "cell_type": "markdown",
      "metadata": {
        "id": "8ddF1jOSZ49k"
      },
      "source": [
        "#### Read in the data."
      ]
    },
    {
      "cell_type": "code",
      "metadata": {
        "id": "GIxYui-xZ49l"
      },
      "source": [
        "# Go to the directory where the data file is located. \n",
        "# os.chdir(r'~~')                # Please, replace the path with your own."
      ],
      "execution_count": null,
      "outputs": []
    },
    {
      "cell_type": "code",
      "metadata": {
        "id": "Rsc-XTMVZ49m"
      },
      "source": [
        "df = pd.read_csv('data_census.csv', header='infer')"
      ],
      "execution_count": null,
      "outputs": []
    },
    {
      "cell_type": "code",
      "metadata": {
        "colab": {
          "base_uri": "https://localhost:8080/"
        },
        "id": "bsluj28lZ49m",
        "outputId": "54e1c011-e926-426a-95ae-a4d1f0fa46df"
      },
      "source": [
        "df.shape"
      ],
      "execution_count": null,
      "outputs": [
        {
          "output_type": "execute_result",
          "data": {
            "text/plain": [
              "(281, 6)"
            ]
          },
          "metadata": {
            "tags": []
          },
          "execution_count": 4
        }
      ]
    },
    {
      "cell_type": "code",
      "metadata": {
        "colab": {
          "base_uri": "https://localhost:8080/",
          "height": 359
        },
        "id": "rQsWeL4aZ49n",
        "outputId": "480aec6b-2bca-4c24-af57-f141be02c301"
      },
      "source": [
        "df.head(10)"
      ],
      "execution_count": null,
      "outputs": [
        {
          "output_type": "execute_result",
          "data": {
            "text/html": [
              "<div>\n",
              "<style scoped>\n",
              "    .dataframe tbody tr th:only-of-type {\n",
              "        vertical-align: middle;\n",
              "    }\n",
              "\n",
              "    .dataframe tbody tr th {\n",
              "        vertical-align: top;\n",
              "    }\n",
              "\n",
              "    .dataframe thead th {\n",
              "        text-align: right;\n",
              "    }\n",
              "</style>\n",
              "<table border=\"1\" class=\"dataframe\">\n",
              "  <thead>\n",
              "    <tr style=\"text-align: right;\">\n",
              "      <th></th>\n",
              "      <th>ProvinceCode</th>\n",
              "      <th>CityCode</th>\n",
              "      <th>Population</th>\n",
              "      <th>Households</th>\n",
              "      <th>PersonsHousehold</th>\n",
              "      <th>GenderRatio</th>\n",
              "    </tr>\n",
              "  </thead>\n",
              "  <tbody>\n",
              "    <tr>\n",
              "      <th>0</th>\n",
              "      <td>109</td>\n",
              "      <td>1001</td>\n",
              "      <td>10078850</td>\n",
              "      <td>4197478</td>\n",
              "      <td>2.40</td>\n",
              "      <td>0.97</td>\n",
              "    </tr>\n",
              "    <tr>\n",
              "      <th>1</th>\n",
              "      <td>109</td>\n",
              "      <td>1188</td>\n",
              "      <td>155695</td>\n",
              "      <td>72882</td>\n",
              "      <td>2.14</td>\n",
              "      <td>0.98</td>\n",
              "    </tr>\n",
              "    <tr>\n",
              "      <th>2</th>\n",
              "      <td>109</td>\n",
              "      <td>1189</td>\n",
              "      <td>126817</td>\n",
              "      <td>59614</td>\n",
              "      <td>2.13</td>\n",
              "      <td>1.00</td>\n",
              "    </tr>\n",
              "    <tr>\n",
              "      <th>3</th>\n",
              "      <td>109</td>\n",
              "      <td>1158</td>\n",
              "      <td>235186</td>\n",
              "      <td>108138</td>\n",
              "      <td>2.17</td>\n",
              "      <td>0.94</td>\n",
              "    </tr>\n",
              "    <tr>\n",
              "      <th>4</th>\n",
              "      <td>109</td>\n",
              "      <td>1105</td>\n",
              "      <td>298145</td>\n",
              "      <td>126915</td>\n",
              "      <td>2.35</td>\n",
              "      <td>0.99</td>\n",
              "    </tr>\n",
              "    <tr>\n",
              "      <th>5</th>\n",
              "      <td>109</td>\n",
              "      <td>1032</td>\n",
              "      <td>362197</td>\n",
              "      <td>158769</td>\n",
              "      <td>2.28</td>\n",
              "      <td>0.97</td>\n",
              "    </tr>\n",
              "    <tr>\n",
              "      <th>6</th>\n",
              "      <td>109</td>\n",
              "      <td>1065</td>\n",
              "      <td>362604</td>\n",
              "      <td>160110</td>\n",
              "      <td>2.26</td>\n",
              "      <td>1.01</td>\n",
              "    </tr>\n",
              "    <tr>\n",
              "      <th>7</th>\n",
              "      <td>109</td>\n",
              "      <td>1190</td>\n",
              "      <td>417976</td>\n",
              "      <td>177077</td>\n",
              "      <td>2.36</td>\n",
              "      <td>1.00</td>\n",
              "    </tr>\n",
              "    <tr>\n",
              "      <th>8</th>\n",
              "      <td>109</td>\n",
              "      <td>1106</td>\n",
              "      <td>464176</td>\n",
              "      <td>192670</td>\n",
              "      <td>2.41</td>\n",
              "      <td>0.96</td>\n",
              "    </tr>\n",
              "    <tr>\n",
              "      <th>9</th>\n",
              "      <td>109</td>\n",
              "      <td>1006</td>\n",
              "      <td>333523</td>\n",
              "      <td>141325</td>\n",
              "      <td>2.36</td>\n",
              "      <td>0.97</td>\n",
              "    </tr>\n",
              "  </tbody>\n",
              "</table>\n",
              "</div>"
            ],
            "text/plain": [
              "   ProvinceCode  CityCode  ...  PersonsHousehold  GenderRatio\n",
              "0           109      1001  ...              2.40         0.97\n",
              "1           109      1188  ...              2.14         0.98\n",
              "2           109      1189  ...              2.13         1.00\n",
              "3           109      1158  ...              2.17         0.94\n",
              "4           109      1105  ...              2.35         0.99\n",
              "5           109      1032  ...              2.28         0.97\n",
              "6           109      1065  ...              2.26         1.01\n",
              "7           109      1190  ...              2.36         1.00\n",
              "8           109      1106  ...              2.41         0.96\n",
              "9           109      1006  ...              2.36         0.97\n",
              "\n",
              "[10 rows x 6 columns]"
            ]
          },
          "metadata": {
            "tags": []
          },
          "execution_count": 5
        }
      ]
    },
    {
      "cell_type": "markdown",
      "metadata": {
        "id": "NRRQjriJZ49n"
      },
      "source": [
        "#### Answer the following questions using Pandas library."
      ]
    },
    {
      "cell_type": "markdown",
      "metadata": {
        "id": "DVvaEZ58Z49o"
      },
      "source": [
        "1). Total population of ProvinceCode equal to 115 and 116:"
      ]
    },
    {
      "cell_type": "code",
      "metadata": {
        "colab": {
          "base_uri": "https://localhost:8080/"
        },
        "id": "vm7Ss27RZ49p",
        "outputId": "90e3939c-4276-488e-bd34-24065f0b2e76"
      },
      "source": [
        "df[(df.ProvinceCode ==115) | (df.ProvinceCode  == 116)].Population.sum()"
      ],
      "execution_count": null,
      "outputs": [
        {
          "output_type": "execute_result",
          "data": {
            "text/plain": [
              "5970327"
            ]
          },
          "metadata": {
            "tags": []
          },
          "execution_count": 9
        }
      ]
    },
    {
      "cell_type": "markdown",
      "metadata": {
        "id": "-bkD1SqxZ49p"
      },
      "source": [
        "2). Average population of the cities where there are more males (GenderRatio >1):"
      ]
    },
    {
      "cell_type": "code",
      "metadata": {
        "colab": {
          "base_uri": "https://localhost:8080/"
        },
        "id": "EW7ibFtEZ49q",
        "outputId": "dc4c882b-1948-449e-a8a8-52d60498844a"
      },
      "source": [
        "df[(df.GenderRatio>1)].Population.mean()"
      ],
      "execution_count": null,
      "outputs": [
        {
          "output_type": "execute_result",
          "data": {
            "text/plain": [
              "419221.2076923077"
            ]
          },
          "metadata": {
            "tags": []
          },
          "execution_count": 11
        }
      ]
    },
    {
      "cell_type": "markdown",
      "metadata": {
        "id": "RIxa2zvLZ49r"
      },
      "source": [
        "3). Places with more males  (GenderRatio >1) and less than 2 persons per household: "
      ]
    },
    {
      "cell_type": "code",
      "metadata": {
        "colab": {
          "base_uri": "https://localhost:8080/"
        },
        "id": "9Dy7tCZiZ49s",
        "outputId": "f8147594-ae0d-4391-e3cf-0507da32ba63"
      },
      "source": [
        "df[(df.GenderRatio>1) & (df.PersonsHousehold<2)].CityCode.sum()"
      ],
      "execution_count": null,
      "outputs": [
        {
          "output_type": "execute_result",
          "data": {
            "text/plain": [
              "6728"
            ]
          },
          "metadata": {
            "tags": []
          },
          "execution_count": 13
        }
      ]
    },
    {
      "cell_type": "markdown",
      "metadata": {
        "id": "HQEGOY5gZ49t"
      },
      "source": [
        "4). Sort the DataFrame in ascending order of the 'Households'. Show the top 10."
      ]
    },
    {
      "cell_type": "code",
      "metadata": {
        "colab": {
          "base_uri": "https://localhost:8080/",
          "height": 359
        },
        "id": "FgihXUh9Z49u",
        "outputId": "394a506e-6e95-4cc8-d2da-e48aa93e3fd3"
      },
      "source": [
        "df.sort_values(by='Households',ascending=True).head(10)"
      ],
      "execution_count": null,
      "outputs": [
        {
          "output_type": "execute_result",
          "data": {
            "text/html": [
              "<div>\n",
              "<style scoped>\n",
              "    .dataframe tbody tr th:only-of-type {\n",
              "        vertical-align: middle;\n",
              "    }\n",
              "\n",
              "    .dataframe tbody tr th {\n",
              "        vertical-align: top;\n",
              "    }\n",
              "\n",
              "    .dataframe thead th {\n",
              "        text-align: right;\n",
              "    }\n",
              "</style>\n",
              "<table border=\"1\" class=\"dataframe\">\n",
              "  <thead>\n",
              "    <tr style=\"text-align: right;\">\n",
              "      <th></th>\n",
              "      <th>ProvinceCode</th>\n",
              "      <th>CityCode</th>\n",
              "      <th>Population</th>\n",
              "      <th>Households</th>\n",
              "      <th>PersonsHousehold</th>\n",
              "      <th>GenderRatio</th>\n",
              "    </tr>\n",
              "  </thead>\n",
              "  <tbody>\n",
              "    <tr>\n",
              "      <th>253</th>\n",
              "      <td>104</td>\n",
              "      <td>1163</td>\n",
              "      <td>10304</td>\n",
              "      <td>5365</td>\n",
              "      <td>1.92</td>\n",
              "      <td>1.15</td>\n",
              "    </tr>\n",
              "    <tr>\n",
              "      <th>244</th>\n",
              "      <td>104</td>\n",
              "      <td>1147</td>\n",
              "      <td>17984</td>\n",
              "      <td>8769</td>\n",
              "      <td>2.05</td>\n",
              "      <td>0.97</td>\n",
              "    </tr>\n",
              "    <tr>\n",
              "      <th>200</th>\n",
              "      <td>114</td>\n",
              "      <td>1179</td>\n",
              "      <td>23308</td>\n",
              "      <td>10877</td>\n",
              "      <td>2.14</td>\n",
              "      <td>0.98</td>\n",
              "    </tr>\n",
              "    <tr>\n",
              "      <th>150</th>\n",
              "      <td>101</td>\n",
              "      <td>1130</td>\n",
              "      <td>24283</td>\n",
              "      <td>11162</td>\n",
              "      <td>2.18</td>\n",
              "      <td>1.17</td>\n",
              "    </tr>\n",
              "    <tr>\n",
              "      <th>62</th>\n",
              "      <td>112</td>\n",
              "      <td>1155</td>\n",
              "      <td>20825</td>\n",
              "      <td>11172</td>\n",
              "      <td>1.86</td>\n",
              "      <td>1.29</td>\n",
              "    </tr>\n",
              "    <tr>\n",
              "      <th>199</th>\n",
              "      <td>114</td>\n",
              "      <td>1073</td>\n",
              "      <td>25181</td>\n",
              "      <td>11723</td>\n",
              "      <td>2.15</td>\n",
              "      <td>0.98</td>\n",
              "    </tr>\n",
              "    <tr>\n",
              "      <th>241</th>\n",
              "      <td>104</td>\n",
              "      <td>1039</td>\n",
              "      <td>24096</td>\n",
              "      <td>12091</td>\n",
              "      <td>1.99</td>\n",
              "      <td>1.00</td>\n",
              "    </tr>\n",
              "    <tr>\n",
              "      <th>213</th>\n",
              "      <td>113</td>\n",
              "      <td>1034</td>\n",
              "      <td>27115</td>\n",
              "      <td>12465</td>\n",
              "      <td>2.18</td>\n",
              "      <td>0.95</td>\n",
              "    </tr>\n",
              "    <tr>\n",
              "      <th>198</th>\n",
              "      <td>114</td>\n",
              "      <td>1193</td>\n",
              "      <td>26325</td>\n",
              "      <td>12531</td>\n",
              "      <td>2.10</td>\n",
              "      <td>1.00</td>\n",
              "    </tr>\n",
              "    <tr>\n",
              "      <th>243</th>\n",
              "      <td>104</td>\n",
              "      <td>1208</td>\n",
              "      <td>26353</td>\n",
              "      <td>13233</td>\n",
              "      <td>1.99</td>\n",
              "      <td>0.98</td>\n",
              "    </tr>\n",
              "  </tbody>\n",
              "</table>\n",
              "</div>"
            ],
            "text/plain": [
              "     ProvinceCode  CityCode  ...  PersonsHousehold  GenderRatio\n",
              "253           104      1163  ...              1.92         1.15\n",
              "244           104      1147  ...              2.05         0.97\n",
              "200           114      1179  ...              2.14         0.98\n",
              "150           101      1130  ...              2.18         1.17\n",
              "62            112      1155  ...              1.86         1.29\n",
              "199           114      1073  ...              2.15         0.98\n",
              "241           104      1039  ...              1.99         1.00\n",
              "213           113      1034  ...              2.18         0.95\n",
              "198           114      1193  ...              2.10         1.00\n",
              "243           104      1208  ...              1.99         0.98\n",
              "\n",
              "[10 rows x 6 columns]"
            ]
          },
          "metadata": {
            "tags": []
          },
          "execution_count": 16
        }
      ]
    }
  ]
}